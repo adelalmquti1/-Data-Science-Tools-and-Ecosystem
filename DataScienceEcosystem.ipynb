{
  "metadata": {
    "kernelspec": {
      "name": "python",
      "display_name": "Python (Pyodide)",
      "language": "python"
    },
    "language_info": {
      "codemirror_mode": {
        "name": "python",
        "version": 3
      },
      "file_extension": ".py",
      "mimetype": "text/x-python",
      "name": "python",
      "nbconvert_exporter": "python",
      "pygments_lexer": "ipython3",
      "version": "3.8"
    }
  },
  "nbformat_minor": 4,
  "nbformat": 4,
  "cells": [
    {
      "cell_type": "markdown",
      "source": "# Data Science Tools and Ecosystem\n\n\n",
      "metadata": {}
    },
    {
      "cell_type": "markdown",
      "source": "## In this notebook, Data Science Tools and Ecosystem are summarized.",
      "metadata": {}
    },
    {
      "cell_type": "markdown",
      "source": "# Data Science Languages\n\n- Python\n- R\n- SQL\n- Julia\n- Scala\n",
      "metadata": {}
    },
    {
      "cell_type": "markdown",
      "source": "# Data Science Libraries\n\n- Pandas\n- NumPy\n- SciPy\n- Matplotlib\n- Seaborn\n- Scikit-learn\n- TensorFlow\n- PyTorch\n- Keras\n",
      "metadata": {}
    },
    {
      "cell_type": "markdown",
      "source": "# Data Science Tools\n\n| Category       | Tools                         |\n|----------------|-------------------------------|\n| Programming    | Python, R, SQL, Julia, Scala  |\n| Data Handling  | Pandas, NumPy, Dplyr, Spark   |\n| Visualization  | Matplotlib, Seaborn, Plotly   |\n| Machine Learning | Scikit-learn, TensorFlow, PyTorch |\n| Deep Learning  | Keras, TensorFlow, PyTorch    |\n| Natural Language Processing | NLTK, SpaCy, Gensim |\n| Data Mining    | Scikit-learn, Orange, Weka    |\n",
      "metadata": {}
    },
    {
      "cell_type": "markdown",
      "source": "# Arithmetic Expression Examples\n\nIn this section, we will explore some basic arithmetic expressions using Python. These examples will demonstrate how to perform addition, subtraction, multiplication, and division operations.\n\n1. Addition:\n   ```python\n   2 + 3\n",
      "metadata": {}
    },
    {
      "cell_type": "code",
      "source": "5 - 2\n",
      "metadata": {
        "trusted": true
      },
      "outputs": [
        {
          "execution_count": 2,
          "output_type": "execute_result",
          "data": {
            "text/plain": "3"
          },
          "metadata": {}
        }
      ],
      "execution_count": 2
    },
    {
      "cell_type": "code",
      "source": "4 * 6\n",
      "metadata": {
        "trusted": true
      },
      "outputs": [
        {
          "execution_count": 3,
          "output_type": "execute_result",
          "data": {
            "text/plain": "24"
          },
          "metadata": {}
        }
      ],
      "execution_count": 3
    },
    {
      "cell_type": "code",
      "source": "10 / 2\n",
      "metadata": {
        "trusted": true
      },
      "outputs": [
        {
          "execution_count": 4,
          "output_type": "execute_result",
          "data": {
            "text/plain": "5.0"
          },
          "metadata": {}
        }
      ],
      "execution_count": 4
    },
    {
      "cell_type": "raw",
      "source": "\nThis markdown cell introduces the topic and provides examples of basic arithmetic operations using Python.\n",
      "metadata": {}
    },
    {
      "cell_type": "code",
      "source": "# Multiply two numbers\nresult_multiply = 5 * 3\nprint(\"Multiplication result:\", result_multiply)\n\n# Add two numbers\nresult_add = 5 + 3\nprint(\"Addition result:\", result_add)\n",
      "metadata": {
        "trusted": true
      },
      "outputs": [
        {
          "name": "stdout",
          "text": "Multiplication result: 15\nAddition result: 8\n",
          "output_type": "stream"
        }
      ],
      "execution_count": 6
    },
    {
      "cell_type": "code",
      "source": "# Number of minutes\nminutes = 135\n\n# Convert minutes to hours\nhours = minutes / 60\n\n# Display the result\nprint(minutes, \"minutes is equal to\", hours, \"hours\")\n",
      "metadata": {
        "trusted": true
      },
      "outputs": [
        {
          "name": "stdout",
          "text": "135 minutes is equal to 2.25 hours\n",
          "output_type": "stream"
        }
      ],
      "execution_count": 7
    },
    {
      "cell_type": "markdown",
      "source": "# Objectives\n\n1. Learn about JupyterLite Notebook.\n2. Create a JupyterLite Notebook.\n3. Use Markdown cells for text formatting.\n4. Use Code cells for writing and executing code.\n5. Share the notebook via a public GitHub link.\n",
      "metadata": {}
    },
    {
      "cell_type": "markdown",
      "source": "# Author\n#### adel almquti",
      "metadata": {}
    },
    {
      "cell_type": "code",
      "source": "",
      "metadata": {
        "trusted": true
      },
      "outputs": [],
      "execution_count": null
    }
  ]
}